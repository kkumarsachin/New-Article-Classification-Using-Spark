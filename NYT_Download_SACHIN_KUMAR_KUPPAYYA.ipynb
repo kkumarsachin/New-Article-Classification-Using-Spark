{
 "cells": [
  {
   "cell_type": "code",
   "execution_count": 411,
   "metadata": {},
   "outputs": [],
   "source": [
    "from bs4 import BeautifulSoup\n",
    "import requests\n",
    "import json\n",
    "url = \"http://api.nytimes.com/svc/search/v2/articlesearch.json?q=business&begin_date=20180201&end_date=20180326&page=13&sort=oldest&api-key=08503df40daa4fd4bbceec8f5b2b8605\"\n",
    "resp = requests.get(url)\n",
    "data = json.loads(resp.text)\n"
   ]
  },
  {
   "cell_type": "code",
   "execution_count": 412,
   "metadata": {},
   "outputs": [
    {
     "name": "stdout",
     "output_type": "stream",
     "text": [
      "https://www.nytimes.com/2018/02/05/opinion/michelle-bachelet-women-politics.html\n",
      "https://www.nytimes.com/2018/02/05/business/china-us-trade-sorghum.html\n",
      "https://www.nytimes.com/2018/02/05/briefing/super-bowl-amtrak-ecuador.html\n",
      "https://www.nytimes.com/2018/02/05/opinion/nashville-scene-weekly-democracy.html\n",
      "https://www.nytimes.com/2018/02/05/nyregion/new-york-today-marijuana-history.html\n",
      "https://www.nytimes.com/2018/02/05/business/media/mlk-commercial-ram-dodge.html\n",
      "https://www.nytimes.com/2018/02/05/business/dealbook/broadcom-qualcomm-deal.html\n",
      "https://www.nytimes.com/2018/02/05/business/dealbook/broadcom-qualcomm-bid.html\n",
      "https://www.nytimes.com/2018/02/05/technology/renee-james-intel-ampere-startup.html\n",
      "https://www.nytimes.com/2018/02/05/business/dealbook/starboard-value-mellanox.html\n"
     ]
    }
   ],
   "source": [
    "\n",
    "for x in range(0, 10):\n",
    "    #print (data[\"response\"][\"docs\"])\n",
    "    new_url = data[\"response\"][\"docs\"][x][\"web_url\"]\n",
    "    print(data[\"response\"][\"docs\"][x][\"web_url\"])\n",
    "    r = requests.get(new_url)\n",
    "    soup = BeautifulSoup(r.text,'html.parser')\n",
    "    results = soup.find_all('p',attrs={'class':'story-body-text story-content'})\n",
    "    filename =  str(1210+x ) + \".txt\"\n",
    "    text_file = open(filename,\"w\")\n",
    "    for i in range(0,len(results)-1) :\n",
    "        text_file.write(results[i].text)\n",
    "    \n",
    "    "
   ]
  },
  {
   "cell_type": "code",
   "execution_count": 413,
   "metadata": {},
   "outputs": [
    {
     "name": "stdout",
     "output_type": "stream",
     "text": [
      "https://www.nytimes.com/2018/02/05/business/dealbook/starboard-value-mellanox.html\n"
     ]
    }
   ],
   "source": [
    "\n",
    "for x in range(9, 10):\n",
    "    #print (data[\"response\"][\"docs\"])\n",
    "    new_url = data[\"response\"][\"docs\"][x][\"web_url\"]\n",
    "    print(data[\"response\"][\"docs\"][x][\"web_url\"])\n",
    "    r = requests.get(new_url)\n",
    "    soup = BeautifulSoup(r.text,'html.parser')\n",
    "    results = soup.find_all('p',attrs={'class':'story-body-text story-content'})\n",
    "    filename =  str(1210+ x ) + \".txt\"\n",
    "    text_file = open(filename,\"w\")\n",
    "    for i in range(0,len(results)-1) :\n",
    "        text_file.write(results[i].text)"
   ]
  },
  {
   "cell_type": "code",
   "execution_count": null,
   "metadata": {},
   "outputs": [],
   "source": []
  },
  {
   "cell_type": "code",
   "execution_count": null,
   "metadata": {},
   "outputs": [],
   "source": []
  },
  {
   "cell_type": "code",
   "execution_count": null,
   "metadata": {},
   "outputs": [],
   "source": []
  }
 ],
 "metadata": {
  "kernelspec": {
   "display_name": "Python 3",
   "language": "python",
   "name": "python3"
  },
  "language_info": {
   "codemirror_mode": {
    "name": "ipython",
    "version": 3
   },
   "file_extension": ".py",
   "mimetype": "text/x-python",
   "name": "python",
   "nbconvert_exporter": "python",
   "pygments_lexer": "ipython3",
   "version": "3.6.3"
  }
 },
 "nbformat": 4,
 "nbformat_minor": 2
}
